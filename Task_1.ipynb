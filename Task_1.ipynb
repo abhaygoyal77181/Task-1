{
  "nbformat": 4,
  "nbformat_minor": 0,
  "metadata": {
    "colab": {
      "provenance": []
    },
    "kernelspec": {
      "name": "python3",
      "display_name": "Python 3"
    },
    "language_info": {
      "name": "python"
    }
  },
  "cells": [
    {
      "cell_type": "code",
      "execution_count": 5,
      "metadata": {
        "id": "I3DyDlCwcsOB"
      },
      "outputs": [],
      "source": [
        "import pandas as pd\n",
        "\n",
        "# Read the datasets from separate sheets in the XLSX file\n",
        "xlsx_file = pd.ExcelFile('Record Matching Data File.xlsx')\n",
        "data1 = pd.read_excel(xlsx_file, sheet_name='data1')\n",
        "data2 = pd.read_excel(xlsx_file, sheet_name='data2')\n"
      ]
    },
    {
      "cell_type": "markdown",
      "source": [
        "# Find the records present in Data1 but missing in Data2\n",
        "The below code uses the isin() function to check if the values in the 'Order ID' and 'Product ID' columns of Data1 are not present in the corresponding columns of Data2. The ~ operator negates the result of the isin() function, so it selects the rows where the values are not present in Data2.\n",
        "The len() function calculates the length of the DataFrame, which represents the count of rows in the DataFrame."
      ],
      "metadata": {
        "id": "Z9YsXIjLdW3k"
      }
    },
    {
      "cell_type": "code",
      "source": [
        "missing_records = data1[~data1['Order ID'].isin(data2['Order ID']) & ~data1['Product ID'].isin(data2['Product ID'])]\n",
        "missing_records_count = len(missing_records)\n",
        "print(\"Number of records missing in Data2:\", missing_records_count)"
      ],
      "metadata": {
        "colab": {
          "base_uri": "https://localhost:8080/"
        },
        "id": "FpUeCQVYdk8U",
        "outputId": "b1d23b51-a865-4318-c0d7-defadde24ae7"
      },
      "execution_count": 6,
      "outputs": [
        {
          "output_type": "stream",
          "name": "stdout",
          "text": [
            "Number of records missing in Data2: 4\n"
          ]
        }
      ]
    },
    {
      "cell_type": "markdown",
      "source": [
        "#Identifying Records Missing in Data1 but Present in Data2:\n",
        "\n",
        "\n",
        "\n"
      ],
      "metadata": {
        "id": "EIZl9f7Cd-Ga"
      }
    },
    {
      "cell_type": "code",
      "source": [
        "# Find the records missing in Data1 but present in Data2\n",
        "missing_records = data2[~data2['Order ID'].isin(data1['Order ID']) & ~data2['Product ID'].isin(data1['Product ID'])]\n",
        "\n",
        "# Get the number of missing records\n",
        "num_missing_records = len(missing_records)\n",
        "\n",
        "print(\"Number of records missing in Data1:\", num_missing_records)\n"
      ],
      "metadata": {
        "colab": {
          "base_uri": "https://localhost:8080/"
        },
        "id": "V6WdWc4tebap",
        "outputId": "dc666e54-6354-49df-b576-7cbffa46e11f"
      },
      "execution_count": 7,
      "outputs": [
        {
          "output_type": "stream",
          "name": "stdout",
          "text": [
            "Number of records missing in Data1: 2\n"
          ]
        }
      ]
    },
    {
      "cell_type": "markdown",
      "source": [
        "#Finding the Sum of Total Quantity of Records Missing in Data1 but Present in Data2:\n"
      ],
      "metadata": {
        "id": "zwY5m7q6e5w3"
      }
    },
    {
      "cell_type": "code",
      "source": [
        "# Filter the missing records from Data2\n",
        "missing_records = data2[~data2['Order ID'].isin(data1['Order ID']) & ~data2['Product ID'].isin(data1['Product ID'])]\n",
        "\n",
        "# Calculate the sum of the total quantity for the missing records\n",
        "sum_missing_qty = missing_records['Qty'].sum()\n",
        "\n",
        "print(\"Sum of total quantity for missing records in Data1:\", sum_missing_qty)\n"
      ],
      "metadata": {
        "colab": {
          "base_uri": "https://localhost:8080/"
        },
        "id": "sYKpmvZQe7b7",
        "outputId": "20d03fea-5936-4098-cb83-d93b0c326fd7"
      },
      "execution_count": 8,
      "outputs": [
        {
          "output_type": "stream",
          "name": "stdout",
          "text": [
            "Sum of total quantity for missing records in Data1: 8\n"
          ]
        }
      ]
    },
    {
      "cell_type": "markdown",
      "source": [
        "#Finding the Total Number of Unique Records (Order ID + Product ID combination) in the Combined Dataset:"
      ],
      "metadata": {
        "id": "h4-PS_H4fGh4"
      }
    },
    {
      "cell_type": "code",
      "source": [
        "# Concatenate data1 and data2 into a combined DataFrame\n",
        "combined_data = pd.concat([data1, data2])\n",
        "\n",
        "# Calculate the total number of unique records\n",
        "num_unique_records = len(combined_data.drop_duplicates(subset=['Order ID', 'Product ID']))\n",
        "\n",
        "# Print the total number of unique records\n",
        "print(\"Total number of unique records in the combined dataset:\", num_unique_records)"
      ],
      "metadata": {
        "colab": {
          "base_uri": "https://localhost:8080/"
        },
        "id": "-QGxJ43ugZii",
        "outputId": "7e6f0801-630f-4fb0-c567-6ba1fef795b3"
      },
      "execution_count": 14,
      "outputs": [
        {
          "output_type": "stream",
          "name": "stdout",
          "text": [
            "Total number of unique records in the combined dataset: 9986\n"
          ]
        }
      ]
    }
  ]
}